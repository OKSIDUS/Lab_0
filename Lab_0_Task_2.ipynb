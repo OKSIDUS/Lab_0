{
 "cells": [
  {
   "cell_type": "code",
   "execution_count": 13,
   "id": "335f0107",
   "metadata": {},
   "outputs": [
    {
     "name": "stdout",
     "output_type": "stream",
     "text": [
      "2^2 + 2^2 = 8\n",
      "3^2 + 6^2 = 45\n",
      "Для числа 9 не існує таких цілих чисел a і b, щоб a^2 + b^2 = 9\n"
     ]
    }
   ],
   "source": [
    "def find_squares_sum(N):\n",
    "    for a in range(1, N):\n",
    "        for b in range(a, N):\n",
    "            if a**2 + b**2 == N:\n",
    "                return f'{a}^2 + {b}^2 = {N}'\n",
    "    return f'Для числа {N} не існує таких цілих чисел a і b, щоб a^2 + b^2 = {N}'\n",
    "\n",
    "def task_2(N):\n",
    "    result = find_squares_sum(N)\n",
    "    print(result)\n",
    "\n",
    "task_2(8)\n",
    "task_2(45)\n",
    "task_2(9)"
   ]
  },
  {
   "cell_type": "code",
   "execution_count": null,
   "id": "f764dbf7",
   "metadata": {},
   "outputs": [],
   "source": []
  }
 ],
 "metadata": {
  "kernelspec": {
   "display_name": "Python 3 (ipykernel)",
   "language": "python",
   "name": "python3"
  },
  "language_info": {
   "codemirror_mode": {
    "name": "ipython",
    "version": 3
   },
   "file_extension": ".py",
   "mimetype": "text/x-python",
   "name": "python",
   "nbconvert_exporter": "python",
   "pygments_lexer": "ipython3",
   "version": "3.11.5"
  }
 },
 "nbformat": 4,
 "nbformat_minor": 5
}
